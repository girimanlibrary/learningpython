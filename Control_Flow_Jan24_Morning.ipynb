{
  "nbformat": 4,
  "nbformat_minor": 0,
  "metadata": {
    "colab": {
      "provenance": [],
      "include_colab_link": true
    },
    "kernelspec": {
      "name": "python3",
      "display_name": "Python 3"
    },
    "language_info": {
      "name": "python"
    }
  },
  "cells": [
    {
      "cell_type": "markdown",
      "metadata": {
        "id": "view-in-github",
        "colab_type": "text"
      },
      "source": [
        "<a href=\"https://colab.research.google.com/github/girimanlibrary/learningpython/blob/main/Control_Flow_Jan24_Morning.ipynb\" target=\"_parent\"><img src=\"https://colab.research.google.com/assets/colab-badge.svg\" alt=\"Open In Colab\"/></a>"
      ]
    },
    {
      "cell_type": "code",
      "execution_count": null,
      "metadata": {
        "id": "BRfnyqtkmB-B",
        "colab": {
          "base_uri": "https://localhost:8080/"
        },
        "outputId": "a04b45e0-2664-4e2f-e1d1-1196d57b1d46"
      },
      "outputs": [
        {
          "output_type": "stream",
          "name": "stdout",
          "text": [
            "Before If\n",
            "Random\n",
            "After If\n"
          ]
        }
      ],
      "source": [
        "print(\"Before If\")\n",
        "\n",
        "name = input()\n",
        "\n",
        "if name == \"Bipin\":\n",
        "  print(\"Hey Bipin!\")\n",
        "  print(\"How are you?\")\n",
        "\n",
        "print(\"After If\")\n",
        "\n",
        "# C++ implements blocks like following\n",
        "# if condition {\n",
        "#     if block here\n",
        "# }"
      ]
    },
    {
      "cell_type": "code",
      "source": [],
      "metadata": {
        "id": "kOm_w5k7T6Ln"
      },
      "execution_count": null,
      "outputs": []
    },
    {
      "cell_type": "code",
      "source": [
        "print(1)\n",
        "\n",
        "if 10 > 100: # Condition if False, if block will not be executed\n",
        "  print(2)\n",
        "  print(3)\n",
        "  print(4)\n",
        "\n",
        "print(5)"
      ],
      "metadata": {
        "colab": {
          "base_uri": "https://localhost:8080/"
        },
        "id": "ubKCwwE-rZqU",
        "outputId": "9668ce90-06a0-4503-bc9b-d995345222b5"
      },
      "execution_count": null,
      "outputs": [
        {
          "output_type": "stream",
          "name": "stdout",
          "text": [
            "1\n",
            "5\n"
          ]
        }
      ]
    },
    {
      "cell_type": "code",
      "source": [
        "print(1)\n",
        "\n",
        "if 10 <= 100: # Condition if True, if block will be executed\n",
        "  print(2)\n",
        "  print(3)\n",
        "  print(4)\n",
        "\n",
        "print(5)"
      ],
      "metadata": {
        "colab": {
          "base_uri": "https://localhost:8080/"
        },
        "id": "WiAaIaGWtIEp",
        "outputId": "2d95ebe9-02cd-4257-e75c-80593c0d79df"
      },
      "execution_count": null,
      "outputs": [
        {
          "output_type": "stream",
          "name": "stdout",
          "text": [
            "1\n",
            "2\n",
            "3\n",
            "4\n",
            "5\n"
          ]
        }
      ]
    },
    {
      "cell_type": "code",
      "source": [
        "# If the condition is True then do something\n",
        "# If the condition is True then do something else do something else"
      ],
      "metadata": {
        "id": "qb-1Z_sQtO1t"
      },
      "execution_count": null,
      "outputs": []
    },
    {
      "cell_type": "code",
      "source": [
        "print(1)\n",
        "\n",
        "if 10 <= 100: # TRUE\n",
        "  print(2) # if block\n",
        "else:\n",
        "  print(3) # else block\n",
        "\n",
        "print(4)"
      ],
      "metadata": {
        "colab": {
          "base_uri": "https://localhost:8080/"
        },
        "id": "x44TJZDQuu_k",
        "outputId": "01951768-b33f-47b9-86c8-18dddc546a4d"
      },
      "execution_count": null,
      "outputs": [
        {
          "output_type": "stream",
          "name": "stdout",
          "text": [
            "1\n",
            "2\n",
            "4\n"
          ]
        }
      ]
    },
    {
      "cell_type": "code",
      "source": [
        "print(1)\n",
        "\n",
        "if 10 > 100: # FALSE\n",
        "  print(2) # if block -> Only executed when condition is True\n",
        "else:\n",
        "  print(3) # else block -> Only executed when condition is False\n",
        "\n",
        "print(4)"
      ],
      "metadata": {
        "colab": {
          "base_uri": "https://localhost:8080/"
        },
        "id": "Orhc1ee_vF2X",
        "outputId": "4d7e97a9-3d1e-4f58-8a72-e576c3db36a2"
      },
      "execution_count": null,
      "outputs": [
        {
          "output_type": "stream",
          "name": "stdout",
          "text": [
            "1\n",
            "3\n",
            "4\n"
          ]
        }
      ]
    },
    {
      "cell_type": "code",
      "source": [
        "# PASSWORD CHECKER\n",
        "original_password = \"strong_password\"\n",
        "\n",
        "user_input = input()\n",
        "\n",
        "if original_password == user_input:\n",
        "  print(\"Password Match :)\")\n",
        "else:\n",
        "  print(\"Password Mismatch :(\")"
      ],
      "metadata": {
        "colab": {
          "base_uri": "https://localhost:8080/"
        },
        "id": "BRj0ym0SvNQe",
        "outputId": "a2613bd9-9516-4a90-af62-dcabc4d0616f"
      },
      "execution_count": null,
      "outputs": [
        {
          "output_type": "stream",
          "name": "stdout",
          "text": [
            "strong_password\n",
            "Password Match :)\n"
          ]
        }
      ]
    },
    {
      "cell_type": "code",
      "source": [
        "\"Python\" == \"python\" # Python is case sensitive"
      ],
      "metadata": {
        "colab": {
          "base_uri": "https://localhost:8080/"
        },
        "id": "Kbb6ywyRv5XM",
        "outputId": "fbdae507-e441-4446-f781-a49438d65128"
      },
      "execution_count": null,
      "outputs": [
        {
          "output_type": "execute_result",
          "data": {
            "text/plain": [
              "False"
            ]
          },
          "metadata": {},
          "execution_count": 11
        }
      ]
    },
    {
      "cell_type": "code",
      "source": [
        "# GREETING PROGRAM\n",
        "\n",
        "# METHOD 1\n",
        "\n",
        "time = int(input(\"Please input the time - \"))\n",
        "\n",
        "if time > 9 and time <= 12:\n",
        "  print(\"Good Morning\")\n",
        "\n",
        "if time > 12 and time <= 17:\n",
        "  print(\"Good Afternoon\")\n",
        "\n",
        "if time > 17 and time <= 20:\n",
        "  print(\"Good Evening\")\n",
        "else:\n",
        "  print(\"Good Night\")"
      ],
      "metadata": {
        "colab": {
          "base_uri": "https://localhost:8080/"
        },
        "id": "SygDv8fIwL0T",
        "outputId": "b5a09c30-2b4c-47c1-ed6d-4fbc5cc6d631"
      },
      "execution_count": null,
      "outputs": [
        {
          "output_type": "stream",
          "name": "stdout",
          "text": [
            "Please input the time - 11\n",
            "Good Morning\n",
            "Good Night\n"
          ]
        }
      ]
    },
    {
      "cell_type": "code",
      "source": [
        "# METHOD 2\n",
        "\n",
        "time = int(input(\"Please input the time - \"))\n",
        "\n",
        "if time > 9 and time <= 12:\n",
        "  print(\"Good Morning\")\n",
        "else:\n",
        "  if time > 12 and time <= 17:\n",
        "    print(\"Good Afternoon\")\n",
        "  else:\n",
        "    if time > 17 and time <= 20:\n",
        "      print(\"Good Evening\")\n",
        "    else:\n",
        "      print(\"Good Night\")"
      ],
      "metadata": {
        "colab": {
          "base_uri": "https://localhost:8080/"
        },
        "id": "ty-wSiMm00DI",
        "outputId": "d2a0aa18-6996-4bda-d46e-0feb65978944"
      },
      "execution_count": null,
      "outputs": [
        {
          "output_type": "stream",
          "name": "stdout",
          "text": [
            "Please input the time - 18\n",
            "Good Evening\n"
          ]
        }
      ]
    },
    {
      "cell_type": "code",
      "source": [
        "x = 5\n",
        "if x > 10:\n",
        "    print(\"Hello\")\n",
        "else:\n",
        "    print(\"World\")"
      ],
      "metadata": {
        "colab": {
          "base_uri": "https://localhost:8080/"
        },
        "id": "OlwO_wIN3j6R",
        "outputId": "7ac90ed1-17f3-435c-9006-d54d34a51151"
      },
      "execution_count": null,
      "outputs": [
        {
          "output_type": "stream",
          "name": "stdout",
          "text": [
            "World\n"
          ]
        }
      ]
    },
    {
      "cell_type": "code",
      "source": [
        "x = 0\n",
        "if x: # if False:\n",
        "    print(\"True\")\n",
        "else:\n",
        "    print(\"False\")"
      ],
      "metadata": {
        "colab": {
          "base_uri": "https://localhost:8080/"
        },
        "id": "uv1u3h4f18az",
        "outputId": "4fc37f49-1a4d-4009-fec9-340b4410f319"
      },
      "execution_count": null,
      "outputs": [
        {
          "output_type": "stream",
          "name": "stdout",
          "text": [
            "False\n"
          ]
        }
      ]
    },
    {
      "cell_type": "code",
      "source": [],
      "metadata": {
        "id": "B_LlaeBw35t3"
      },
      "execution_count": null,
      "outputs": []
    },
    {
      "cell_type": "code",
      "source": [
        "# METHOD 3\n",
        "\n",
        "time = int(input(\"Please input the time - \"))\n",
        "\n",
        "if time > 6 and time <= 12:\n",
        "  print(\"Good Morning\")\n",
        "elif time > 12 and time <= 17:\n",
        "  print(\"Good Afternoon\")\n",
        "elif time > 17 and time <= 20:\n",
        "  print(\"Good Evening\")\n",
        "else:\n",
        "  print(\"Good Night\")"
      ],
      "metadata": {
        "colab": {
          "base_uri": "https://localhost:8080/"
        },
        "id": "fX_MeP3v3Ybv",
        "outputId": "e1e19f54-e5b0-4672-8782-4d25baa79d85"
      },
      "execution_count": null,
      "outputs": [
        {
          "output_type": "stream",
          "name": "stdout",
          "text": [
            "Please input the time - 2\n",
            "Good Night\n"
          ]
        }
      ]
    },
    {
      "cell_type": "markdown",
      "source": [
        "### HOMEWORK\n",
        "\n",
        "**Build an ATM System**\n",
        "- Your ATM only has 500 and 200 Rs notes\n",
        "- Any amount that can be dispatched using these notes is accepted and all other amounts are rejected.\n",
        "\n",
        "*Example* -\n",
        "- Accepted Amounts = 700, 1000, 800...\n",
        "- Rejected Amounts = 750, 850, 910, 100, 300..."
      ],
      "metadata": {
        "id": "icjCwyUs5Nzo"
      }
    },
    {
      "cell_type": "code",
      "source": [
        "x = 5\n",
        "if x > 2: # True\n",
        "    if x < 10: # True\n",
        "        print(\"x is between 2 and 10\")\n",
        "    else:\n",
        "        print(\"x is greater than or equal to 10\")\n",
        "else:\n",
        "    print(\"x is less than or equal to 2\")"
      ],
      "metadata": {
        "colab": {
          "base_uri": "https://localhost:8080/"
        },
        "id": "BCxWC9WK4mAH",
        "outputId": "f6d567dd-2fe3-42c6-8dee-5175edc3fd09"
      },
      "execution_count": null,
      "outputs": [
        {
          "output_type": "stream",
          "name": "stdout",
          "text": [
            "x is between 2 and 10\n"
          ]
        }
      ]
    },
    {
      "cell_type": "code",
      "source": [
        "age = 15\n",
        "if age < 18: # True\n",
        "    print(\"You are not eligible to vote\")\n",
        "elif age >= 18 and age < 21:\n",
        "    print(\"You can vote but can't drink\")\n",
        "else:\n",
        "    print(\"You can vote and drink\")"
      ],
      "metadata": {
        "colab": {
          "base_uri": "https://localhost:8080/"
        },
        "id": "iTJIwAyF6y-E",
        "outputId": "c877e45e-764b-4287-cf25-f5ab9eb6a249"
      },
      "execution_count": null,
      "outputs": [
        {
          "output_type": "stream",
          "name": "stdout",
          "text": [
            "You are not eligible to vote\n"
          ]
        }
      ]
    },
    {
      "cell_type": "code",
      "source": [],
      "metadata": {
        "id": "kQ2Vz5a07UF_"
      },
      "execution_count": null,
      "outputs": []
    }
  ]
}